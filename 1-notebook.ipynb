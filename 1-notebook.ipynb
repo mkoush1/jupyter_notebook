{
  "metadata": {
    "language_info": {
      "codemirror_mode": {
        "name": "python",
        "version": 3
      },
      "file_extension": ".py",
      "mimetype": "text/x-python",
      "name": "python",
      "nbconvert_exporter": "python",
      "pygments_lexer": "ipython3",
      "version": "3.8"
    },
    "kernelspec": {
      "name": "python",
      "display_name": "Python (Pyodide)",
      "language": "python"
    }
  },
  "nbformat_minor": 4,
  "nbformat": 4,
  "cells": [
    {
      "cell_type": "markdown",
      "source": "# Jupyter notbook\n",
      "metadata": {
        "trusted": true
      }
    },
    {
      "cell_type": "markdown",
      "source": "## Introduction\nWelcome to this notebook! This project aims to explore various data science concepts and tools.\n",
      "metadata": {
        "trusted": true
      }
    },
    {
      "cell_type": "markdown",
      "source": "## Data Science Languages\n- Python\n- R\n- Julia\n- Scala\n",
      "metadata": {
        "trusted": true
      }
    },
    {
      "cell_type": "markdown",
      "source": "## Data Science Libraries\n- Python: NumPy, Pandas, Matplotlib, Scikit-learn\n- R: dplyr, ggplot2, caret\n",
      "metadata": {
        "trusted": true
      }
    },
    {
      "cell_type": "markdown",
      "source": "## Data Science Tools\n\n| Category      | Tools                  |\n| ------------- | ----------------------|\n| IDEs          | Jupyter, RStudio      |\n| Visualization | Tableau, Plotly       |\n| Machine Learning | TensorFlow, PyTorch |\n| Big Data      | Hadoop, Spark         |\n",
      "metadata": {
        "trusted": true
      }
    },
    {
      "cell_type": "markdown",
      "source": "## Arithmetic Expression Examples\nIn the following code cells, we will showcase different arithmetic expressions and operations.\n",
      "metadata": {
        "trusted": true
      }
    },
    {
      "cell_type": "code",
      "source": "# Multiply and Add Numbers\na = 5\nb = 10\nmultiply = a * b\nadd = a + b\nprint(\"Multiplication result:\", multiply)\nprint(\"Addition result:\", add)\n",
      "metadata": {
        "trusted": true
      },
      "execution_count": 2,
      "outputs": [
        {
          "name": "stdout",
          "text": "Multiplication result: 50\nAddition result: 15\n",
          "output_type": "stream"
        }
      ]
    },
    {
      "cell_type": "code",
      "source": "# Convert Minutes to Hours\nminutes = 120\nhours = minutes / 60\nprint(\"Conversion result:\", hours)\n",
      "metadata": {
        "trusted": true
      },
      "execution_count": 3,
      "outputs": [
        {
          "name": "stdout",
          "text": "Conversion result: 2.0\n",
          "output_type": "stream"
        }
      ]
    },
    {
      "cell_type": "markdown",
      "source": "## Objectives\n- Explore different data science concepts.\n- Perform arithmetic operations using code.\n- Showcase data science tools and libraries.\n",
      "metadata": {
        "trusted": true
      }
    },
    {
      "cell_type": "markdown",
      "source": "## Author\nMohammad AbuKoush\n",
      "metadata": {
        "trusted": true
      }
    },
    {
      "cell_type": "code",
      "source": "",
      "metadata": {
        "trusted": true
      },
      "execution_count": null,
      "outputs": []
    }
  ]
}